{
 "cells": [
  {
   "cell_type": "markdown",
   "id": "7b55e5c9",
   "metadata": {},
   "source": [
    "# Assignment No. 1"
   ]
  },
  {
   "cell_type": "markdown",
   "id": "3d2974f4",
   "metadata": {},
   "source": [
    "#Question No. 1 :- In the below elements which of them are values or an expression? eg:- values can be integer or string and expressions will be mathematical operators.\n",
    "\n",
    "Ans:- In the below elements :\n",
    "  \n",
    "    *,-,/,+ are expression\n",
    "\n",
    "    'hello' is a string\n",
    "\n",
    "    6  and -87.8 is a value\n",
    "\n",
    "    "
   ]
  },
  {
   "cell_type": "markdown",
   "id": "6710b927",
   "metadata": {},
   "source": [
    "#Question No. 2 :- What is the difference between string and variable?\n",
    "\n",
    "Ans:- \n",
    "\n",
    "    String - string is an array which is represented in an inverted comas(\"\")\n",
    "    \n",
    "    Variable - variable is an element in which the values are stored like integers , strings , boolean, float"
   ]
  },
  {
   "cell_type": "markdown",
   "id": "9b44388a",
   "metadata": {},
   "source": [
    "#Question No. 3 :- Describe three different data types.\n",
    "\n",
    "The three types of data types are:\n",
    "    \n",
    "    Boolean : the boolean values are True and False\n",
    "        \n",
    "    integer : the values are in integer form \n",
    "        \n",
    "    dictionary : the dictionary is an element in which keys and values are stored"
   ]
  },
  {
   "cell_type": "markdown",
   "id": "dc2ad527",
   "metadata": {},
   "source": [
    "#Question No. 4 :- What is an expression made up of? What do all expressions do?\n",
    "\n",
    "Ans :- Expressions are the representation of values.For example any integer is also an expression since it represent the value of the integer"
   ]
  },
  {
   "cell_type": "markdown",
   "id": "abd29b71",
   "metadata": {},
   "source": [
    "#Question No 5 :- This assignment statements, like spam = 10. What is the difference between an expression and a statement\n",
    "\n",
    "Ans :- The Difference between expression and statement is expression retures with an value by the interpreted python and the statement is executed it does not gives anything "
   ]
  },
  {
   "cell_type": "code",
   "execution_count": 5,
   "id": "3acf536b",
   "metadata": {},
   "outputs": [
    {
     "data": {
      "text/plain": [
       "23"
      ]
     },
     "execution_count": 5,
     "metadata": {},
     "output_type": "execute_result"
    }
   ],
   "source": [
    "'''Question No. 6 :- After running the following code, what does the variable bacon contain?\n",
    "bacon = 22\n",
    "bacon + 1'''\n",
    "\n",
    "bacon = 22 \n",
    "bacon + 1\n",
    "\n"
   ]
  },
  {
   "cell_type": "code",
   "execution_count": 8,
   "id": "467dc363",
   "metadata": {},
   "outputs": [
    {
     "data": {
      "text/plain": [
       "'spamspamspam'"
      ]
     },
     "execution_count": 8,
     "metadata": {},
     "output_type": "execute_result"
    }
   ],
   "source": [
    "'''Question No. 7 :- What should the values of the following two terms be?\n",
    "'spam' + 'spamspam'\n",
    "'spam' * 3'''\n",
    "\n",
    "\"spam\" + \"spamspam\"\n",
    "\n"
   ]
  },
  {
   "cell_type": "code",
   "execution_count": 9,
   "id": "de3ea65a",
   "metadata": {},
   "outputs": [
    {
     "data": {
      "text/plain": [
       "'spamspamspam'"
      ]
     },
     "execution_count": 9,
     "metadata": {},
     "output_type": "execute_result"
    }
   ],
   "source": [
    "\"spam\" * 3"
   ]
  },
  {
   "cell_type": "markdown",
   "id": "eb50c4a4",
   "metadata": {},
   "source": [
    "#Question No. 8 :- Why is eggs a valid variable name while 100 is invalid?\n",
    "\n",
    "Ans :- In an variable the variable should be in alphanumeric form  or we can use underscore which the python interpreter understands\n",
    "    \n",
    "    Example : 1.sam1\n",
    "              2.sam_12"
   ]
  },
  {
   "cell_type": "markdown",
   "id": "d8a3b934",
   "metadata": {},
   "source": [
    "#Question No. 9 :- What three functions can be used to get the integer, floating-point number, or string version of a value?\n",
    "\n",
    "Ans :- For integer we can use int function \n",
    "    \n",
    "   For floating point number we can use  float function\n",
    "        \n",
    "   For string we can use str function "
   ]
  },
  {
   "cell_type": "markdown",
   "id": "954597ac",
   "metadata": {},
   "source": [
    "'''Question No. 10 :- Why does this expression cause an error? How can you fix it?\n",
    "'I have eaten ' + 99 + ' burritos'.'''\n",
    "\n",
    "The cause of the error is that the 99 is in the integer form and the rest of the statements are in string form\n",
    "so we have to convert 99 into string form \n",
    "\n"
   ]
  },
  {
   "cell_type": "code",
   "execution_count": 12,
   "id": "69a067bb",
   "metadata": {},
   "outputs": [
    {
     "data": {
      "text/plain": [
       "'i have eaten 99 burritos'"
      ]
     },
     "execution_count": 12,
     "metadata": {},
     "output_type": "execute_result"
    }
   ],
   "source": [
    "'i have eaten' + ' 99 ' + 'burritos'"
   ]
  },
  {
   "cell_type": "code",
   "execution_count": null,
   "id": "08b7701d",
   "metadata": {},
   "outputs": [],
   "source": []
  }
 ],
 "metadata": {
  "kernelspec": {
   "display_name": "Python 3 (ipykernel)",
   "language": "python",
   "name": "python3"
  },
  "language_info": {
   "codemirror_mode": {
    "name": "ipython",
    "version": 3
   },
   "file_extension": ".py",
   "mimetype": "text/x-python",
   "name": "python",
   "nbconvert_exporter": "python",
   "pygments_lexer": "ipython3",
   "version": "3.9.7"
  }
 },
 "nbformat": 4,
 "nbformat_minor": 5
}
